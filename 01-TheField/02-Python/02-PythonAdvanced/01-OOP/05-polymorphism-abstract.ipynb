{
 "cells": [
  {
   "cell_type": "markdown",
   "metadata": {},
   "source": [
    "## Polymorphism\n",
    "\n",
    "Polymorphism in Python allows objects of different classes to be treated as objects of a common base class.\n",
    "It enables the use of a single interface for different data types or classes. There are several types of polymorphism in Python:\n",
    "\n",
    "- Function Polymorphism: Python's built-in functions like len() can work with different data types\n",
    "- Class Polymorphism: Different classes can have methods with the same name\n",
    "- Inheritance-based Polymorphism: Child classes can override methods from parent classes\n",
    "\n",
    "Example of class polymorphism:"
   ]
  },
  {
   "cell_type": "code",
   "execution_count": 1,
   "metadata": {},
   "outputs": [
    {
     "name": "stdout",
     "output_type": "stream",
     "text": [
      "Drive!\n",
      "Sail!\n",
      "Fly!\n"
     ]
    }
   ],
   "source": [
    "class Car:\n",
    "    def move(self):\n",
    "        print(\"Drive!\")\n",
    "\n",
    "class Boat:\n",
    "    def move(self):\n",
    "        print(\"Sail!\")\n",
    "\n",
    "class Plane:\n",
    "    def move(self):\n",
    "        print(\"Fly!\")\n",
    "\n",
    "for vehicle in (Car(), Boat(), Plane()):\n",
    "    vehicle.move()\n"
   ]
  },
  {
   "cell_type": "markdown",
   "metadata": {},
   "source": [
    "\n",
    "#### Basic Method Overriding\n",
    "\n",
    "Create a base class Animal with a method make_sound(). Then create subclasses Dog, Cat, and Cow that override this method. Demonstrate polymorphism by calling make_sound() on different animal objects."
   ]
  },
  {
   "cell_type": "code",
   "execution_count": 3,
   "metadata": {},
   "outputs": [
    {
     "name": "stdout",
     "output_type": "stream",
     "text": [
      "Woaf\n",
      "Meow\n",
      "Meuuuh\n"
     ]
    }
   ],
   "source": [
    "class Animal:\n",
    "    def make_sound(self):\n",
    "        pass\n",
    "\n",
    "# Implement Dog, Cat, and Cow classes here\n",
    "class Dog(Animal):\n",
    "    def make_sound(self):\n",
    "        return \"Woaf\"\n",
    "    \n",
    "class Cat(Animal):\n",
    "    def make_sound(self):\n",
    "        return \"Meow\"\n",
    "    \n",
    "class Cow(Animal):\n",
    "    def make_sound(self):\n",
    "        return \"Meuuuh\"\n",
    "# Create a list of animals and make them all sound off\n",
    "for animal in (Dog(),Cat(),Cow()):\n",
    "    print(animal.make_sound())\n"
   ]
  },
  {
   "cell_type": "markdown",
   "metadata": {},
   "source": [
    "\n",
    "#### Employee Salary Calculator\n",
    "\n",
    "Create a base class Employee with a method calculate_salary(). Implement subclasses FullTimeEmployee, PartTimeEmployee, and Contractor, each with its own salary calculation logic. Use polymorphism to calculate salaries for different types of employees."
   ]
  },
  {
   "cell_type": "code",
   "execution_count": 26,
   "metadata": {},
   "outputs": [
    {
     "name": "stdout",
     "output_type": "stream",
     "text": [
      "Robin has 3000.0 € salary per month\n",
      "Elsa has 1500.0 € salary per month\n",
      "Santo has 6000 € salary per month\n"
     ]
    }
   ],
   "source": [
    "class Employee:\n",
    "\n",
    "    _base_salary = 2000\n",
    "\n",
    "    def __init__(self, name):\n",
    "        self.name = name\n",
    "\n",
    "    def calculate_salary(self):\n",
    "        pass\n",
    "\n",
    "# Implement FullTimeEmployee, PartTimeEmployee, and Contractor classes here\n",
    "class FullTimeEmployee(Employee):\n",
    "\n",
    "    def __init__(self,name):\n",
    "        super().__init__(name)\n",
    "        \n",
    "\n",
    "    def calculate_salary(self):\n",
    "        return f\"{(Employee._base_salary+(Employee._base_salary*0.5))}\"\n",
    "    \n",
    "class PartTimeEmployee(Employee):\n",
    "    def __init__(self,name):\n",
    "        super().__init__(name)\n",
    "\n",
    "    def calculate_salary(self):\n",
    "        return f\"{Employee._base_salary-(Employee._base_salary*0.25)}\"\n",
    "\n",
    "class Contractor(Employee):\n",
    "    def __init__(self,name):\n",
    "        super().__init__(name)\n",
    "\n",
    "    def calculate_salary(self):\n",
    "        return f\"{((Employee._base_salary*2)+Employee._base_salary)}\"\n",
    "# Create a list of employees and calculate their salaries\n",
    "for employee in (FullTimeEmployee(\"Robin\"),PartTimeEmployee(\"Elsa\"),Contractor(\"Santo\")):\n",
    "    print(f\"{employee.name} has {employee.calculate_salary()} € salary per month\")"
   ]
  },
  {
   "cell_type": "markdown",
   "metadata": {},
   "source": [
    "#### Abstract methods\n",
    "\n",
    "Abstract methods in Python are methods declared in an abstract class but lack implementation. They serve as a blueprint for subclasses, requiring them to provide specific implementations. \n",
    "\n",
    "Abstract methods are defined using the @abstractmethod decorator from the abc module. They are typically part of an abstract base class (ABC)\n",
    "\n",
    "##### Usage and Utility\n",
    "\n",
    "- Enforcing Interface: Abstract methods ensure that subclasses implement required methods, creating a consistent interface\n",
    "- Code Reusability: They promote code reuse by defining a common structure for related classes\n",
    "- Polymorphism: Abstract methods enable polymorphic behavior, allowing different subclasses to provide their own implementations\n",
    "- Encapsulation: They help encapsulate implementation details while exposing a clear interface\n",
    "\n",
    "##### When to Use Abstract Methods\n",
    "Use abstract methods in the following scenarios:\n",
    "\n",
    "- API Design: When designing APIs that require specific interfaces to be implemented\n",
    "- Plugin Architecture: For creating extensible systems where plugins need to adhere to a defined interface\n",
    "- Domain Modeling: When modeling complex domains and ensuring certain methods are implemented across all classes in the domain\n",
    "- Framework Development: To provide a structure for developers to extend and customize functionality\n",
    "- Standardization: When you want to enforce a standard set of methods across multiple related classes\n",
    "\n",
    "Abstract methods are powerful tools for creating flexible, maintainable, and extensible code in Python. They help define clear contracts between base classes and their subclasses, ensuring consistent behavior across class hierarchies"
   ]
  },
  {
   "cell_type": "markdown",
   "metadata": {},
   "source": [
    "\n",
    "#### Shape Area Calculator\n",
    "\n",
    "Create an abstract base class Shape with an abstract method area(). Implement concrete classes Circle, Rectangle, and Triangle that inherit from Shape. Use polymorphism to calculate and print the areas of different shapes."
   ]
  },
  {
   "cell_type": "code",
   "execution_count": 28,
   "metadata": {},
   "outputs": [
    {
     "name": "stdout",
     "output_type": "stream",
     "text": [
      "Area of Circle is 9.42477796076938\n",
      "Area of Triangle is 25.0\n",
      "Area of Rectangle is 40\n"
     ]
    }
   ],
   "source": [
    "from abc import ABC, abstractmethod\n",
    "import math\n",
    "\n",
    "class Shape(ABC):\n",
    "    @abstractmethod\n",
    "    def area(self):\n",
    "        pass\n",
    "\n",
    "# Implement Circle, Rectangle, and Triangle classes here\n",
    "class Circle(Shape):\n",
    "\n",
    "    def __init__(self,radius):\n",
    "        super().__init__()\n",
    "        self.radius = radius\n",
    "\n",
    "    def area(self):\n",
    "        return self.radius*math.pi\n",
    "    \n",
    "class Triangle(Shape):\n",
    "\n",
    "    def __init__(self,base,height):\n",
    "        super().__init__()\n",
    "        self.base = base\n",
    "        self.height = height\n",
    "\n",
    "    def area(self):\n",
    "        return (self.base*self.height)/2\n",
    "\n",
    "class Rectangle(Shape):\n",
    "\n",
    "    def __init__(self,width,height):\n",
    "        super().__init__()\n",
    "        self.width = width\n",
    "        self.height = height\n",
    "\n",
    "    def area(self):\n",
    "        return self.width*self.height\n",
    "# Create a list of shapes and calculate their areas\n",
    "\n",
    "for shape in (Circle(3),Triangle(10,5),Rectangle(10,4)):\n",
    "    print(f\"Area of {shape.__class__.__name__} is {shape.area()}\")"
   ]
  },
  {
   "cell_type": "markdown",
   "metadata": {},
   "source": [
    "\n",
    "#### File Processor\n",
    "\n",
    "Create an abstract base class FileProcessor with methods read_file() and process_data(). Implement concrete classes for different file types (e.g., CSVProcessor, JSONProcessor, XMLProcessor). Use polymorphism to read and process data from different file formats. "
   ]
  },
  {
   "cell_type": "code",
   "execution_count": 53,
   "metadata": {},
   "outputs": [
    {
     "name": "stdout",
     "output_type": "stream",
     "text": [
      " --------------------\n",
      "\n",
      "CSVProcessor\n",
      "\n",
      "['Firstname', 'Lastname']\n",
      "['Alice', 'Dupont']\n",
      "['Jean', 'Martin']\n",
      "['Claire', 'Leclerc']\n",
      "['Paul', 'Dubois']\n",
      "['Sophie', 'Moreau']\n",
      " --------------------\n",
      "\n",
      "JSONProcessor\n",
      "\n",
      "Json data : \n",
      "[{'Firstname': 'Alice', 'Lastname': 'Dupont'}, {'Firstname': 'Jean', 'Lastname': 'Martin'}, {'Firstname': 'Claire', 'Lastname': 'Leclerc'}, {'Firstname': 'Paul', 'Lastname': 'Dubois'}, {'Firstname': 'Sophie', 'Lastname': 'Moreau'}]\n",
      " --------------------\n",
      "\n",
      "XMLProcessor\n",
      "\n",
      "Alice Dupont\n",
      "Jean Martin\n",
      "Claire Leclerc\n",
      "Paul Dubois\n",
      "Sophie Moreau\n"
     ]
    }
   ],
   "source": [
    "from abc import ABC, abstractmethod\n",
    "import csv\n",
    "import json\n",
    "import xml.etree.ElementTree as ET\n",
    "\n",
    "class FileProcessor(ABC):\n",
    "    @abstractmethod\n",
    "    def read_file(self, filename):\n",
    "        pass\n",
    "\n",
    "    @abstractmethod\n",
    "    def process_data(self, data):\n",
    "        pass\n",
    "\n",
    "# Implement CSVProcessor, JSONProcessor, and XMLProcessor classes here\n",
    "class CSVProcessor(FileProcessor):\n",
    "    def read_file(self,filename):\n",
    "        data = None\n",
    "        with open(filename, mode ='r') as file:\n",
    "            data = list(csv.reader(file,delimiter=\";\"))\n",
    "            return data     \n",
    "\n",
    "    def process_data(self, data):\n",
    "        for lines in data:\n",
    "            print(lines)\n",
    "\n",
    "class JSONProcessor(FileProcessor):\n",
    "    def read_file(self,filename):\n",
    "        json_file = None\n",
    "        with open(filename,mode = \"r\") as file:\n",
    "            json_file = json.load(file)\n",
    "        return json_file\n",
    "\n",
    "    def process_data(self, data):\n",
    "        print(f\"Json data : \\n{data}\")\n",
    "\n",
    "class XMLProcessor(FileProcessor):\n",
    "    def read_file(self,filename):\n",
    "        tree = ET.parse(filename)\n",
    "        return tree\n",
    "\n",
    "    def process_data(self, data):\n",
    "        rootTag = data.getroot()\n",
    "\n",
    "        for person in rootTag.findall('Person'):\n",
    "            firstname = person.find('Firstname').text.strip() if person.find('Firstname') is not None else ''\n",
    "            lastname = person.find('Lastname').text.strip() if person.find('Lastname') is not None else ''\n",
    "            print(f\"{firstname} {lastname}\")\n",
    "\n",
    "# Create a list of file processors and use them to read and process different file types\n",
    "for file_processor in (CSVProcessor(),JSONProcessor(),XMLProcessor()):\n",
    "    data = None\n",
    "    print(\"\",\"-\"*20)\n",
    "    if isinstance(file_processor,CSVProcessor):\n",
    "        print(\"\\nCSVProcessor\\n\")\n",
    "        data = file_processor.read_file(\"data.csv\")\n",
    "        file_processor.process_data(data)\n",
    "    elif isinstance(file_processor,JSONProcessor):\n",
    "        print(\"\\nJSONProcessor\\n\")\n",
    "        data = file_processor.read_file(\"data.json\")\n",
    "        file_processor.process_data(data)\n",
    "    elif isinstance(file_processor,XMLProcessor):\n",
    "        print(\"\\nXMLProcessor\\n\")\n",
    "        data = file_processor.read_file(\"data.xml\")\n",
    "        file_processor.process_data(data)\n",
    "        \n",
    "    "
   ]
  }
 ],
 "metadata": {
  "kernelspec": {
   "display_name": "Python 3",
   "language": "python",
   "name": "python3"
  },
  "language_info": {
   "codemirror_mode": {
    "name": "ipython",
    "version": 3
   },
   "file_extension": ".py",
   "mimetype": "text/x-python",
   "name": "python",
   "nbconvert_exporter": "python",
   "pygments_lexer": "ipython3",
   "version": "3.13.1"
  }
 },
 "nbformat": 4,
 "nbformat_minor": 2
}
